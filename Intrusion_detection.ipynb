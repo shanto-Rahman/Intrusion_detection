{
  "nbformat": 4,
  "nbformat_minor": 0,
  "metadata": {
    "kernelspec": {
      "name": "python3",
      "display_name": "Python 3"
    },
    "colab": {
      "name": "Intrusion_detection.ipynb",
      "provenance": [],
      "collapsed_sections": []
    },
    "accelerator": "GPU",
    "language_info": {
      "name": "python"
    }
  },
  "cells": [
    {
      "cell_type": "code",
      "metadata": {
        "scrolled": true,
        "id": "iiNh3b3NHgfj"
      },
      "source": [
        "import os\n",
        "import pandas as pd\n",
        "import numpy as np\n",
        "import matplotlib.pyplot as plt\n",
        "import seaborn as sns\n",
        "import time"
      ],
      "execution_count": 1,
      "outputs": []
    },
    {
      "cell_type": "code",
      "metadata": {
        "colab": {
          "base_uri": "https://localhost:8080/"
        },
        "id": "OX13lyegHsUd",
        "outputId": "f1a1de2c-8100-482b-8d43-23f41974ddec"
      },
      "source": [
        "\n",
        "from google.colab import drive\n",
        "drive.mount('/content/drive')"
      ],
      "execution_count": 2,
      "outputs": [
        {
          "output_type": "stream",
          "text": [
            "Mounted at /content/drive\n"
          ],
          "name": "stdout"
        }
      ]
    },
    {
      "cell_type": "code",
      "metadata": {
        "id": "SsAkYBnpHggl"
      },
      "source": [
        "cols=\"\"\"duration,\n",
        "protocol_type,\n",
        "service,\n",
        "flag,\n",
        "src_bytes,\n",
        "dst_bytes,\n",
        "land,\n",
        "wrong_fragment,\n",
        "urgent,\n",
        "hot,\n",
        "num_failed_logins,\n",
        "logged_in,\n",
        "num_compromised,\n",
        "root_shell,\n",
        "su_attempted,\n",
        "num_root,\n",
        "num_file_creations,\n",
        "num_shells,\n",
        "num_access_files,\n",
        "num_outbound_cmds,\n",
        "is_host_login,\n",
        "is_guest_login,\n",
        "count,\n",
        "srv_count,\n",
        "serror_rate,\n",
        "srv_serror_rate,\n",
        "rerror_rate,\n",
        "srv_rerror_rate,\n",
        "same_srv_rate,\n",
        "diff_srv_rate,\n",
        "srv_diff_host_rate,\n",
        "dst_host_count,\n",
        "dst_host_srv_count,\n",
        "dst_host_same_srv_rate,\n",
        "dst_host_diff_srv_rate,\n",
        "dst_host_same_src_port_rate,\n",
        "dst_host_srv_diff_host_rate,\n",
        "dst_host_serror_rate,\n",
        "dst_host_srv_serror_rate,\n",
        "dst_host_rerror_rate,\n",
        "dst_host_srv_rerror_rate\"\"\"\n",
        "\n",
        "columns=[]\n",
        "for c in cols.split(','):\n",
        "    if(c.strip()):\n",
        "       columns.append(c.strip())\n",
        "\n",
        "columns.append('target')"
      ],
      "execution_count": 3,
      "outputs": []
    },
    {
      "cell_type": "code",
      "metadata": {
        "id": "rvSRYydZHggw"
      },
      "source": [
        "attacks_types = {\n",
        "    'normal': 'normal',\n",
        "'back': 'dos',\n",
        "'buffer_overflow': 'u2r',\n",
        "'ftp_write': 'r2l',\n",
        "'guess_passwd': 'r2l',\n",
        "'imap': 'r2l',\n",
        "'ipsweep': 'probe',\n",
        "'land': 'dos',\n",
        "'loadmodule': 'u2r',\n",
        "'multihop': 'r2l',\n",
        "'neptune': 'dos',\n",
        "'nmap': 'probe',\n",
        "'perl': 'u2r',\n",
        "'phf': 'r2l',\n",
        "'pod': 'dos',\n",
        "'portsweep': 'probe',\n",
        "'rootkit': 'u2r',\n",
        "'satan': 'probe',\n",
        "'smurf': 'dos',\n",
        "'spy': 'r2l',\n",
        "'teardrop': 'dos',\n",
        "'warezclient': 'r2l',\n",
        "'warezmaster': 'r2l',\n",
        "}\n"
      ],
      "execution_count": 4,
      "outputs": []
    },
    {
      "cell_type": "code",
      "metadata": {
        "id": "xTVJ7xaJHgg7"
      },
      "source": [
        "path = \"/content/drive/MyDrive/Colab Notebooks/Network_Intrusion/2nd_Approach/dataset/kddcup.data_10_percent.gz\"\n",
        "df = pd.read_csv(path,names=columns)\n",
        "\n",
        "df['Attack Type'] = df.target.apply(lambda r:attacks_types[r[:-1]])\n",
        "df['Attack Type'].value_counts()"
      ],
      "execution_count": 5,
      "outputs": []
    },
    {
      "cell_type": "code",
      "metadata": {
        "id": "zxpkSyj1q3Tl"
      },
      "source": [
        "df = df.dropna('columns')\n",
        "\n",
        "df = df[[col for col in df if df[col].nunique() > 1]]"
      ],
      "execution_count": 46,
      "outputs": []
    },
    {
      "cell_type": "code",
      "metadata": {
        "id": "alhTD6nOHgi5"
      },
      "source": [
        "df.drop('num_root',axis = 1,inplace = True)\n",
        "df.drop('srv_serror_rate',axis = 1,inplace = True)\n",
        "df.drop('srv_rerror_rate',axis = 1, inplace=True)\n",
        "df.drop('dst_host_srv_serror_rate',axis = 1, inplace=True)\n",
        "df.drop('dst_host_serror_rate',axis = 1, inplace=True)\n",
        "df.drop('dst_host_rerror_rate',axis = 1, inplace=True)\n",
        "df.drop('dst_host_srv_rerror_rate',axis = 1, inplace=True)\n",
        "df.drop('dst_host_same_srv_rate',axis = 1, inplace=True)"
      ],
      "execution_count": 9,
      "outputs": []
    },
    {
      "cell_type": "markdown",
      "metadata": {
        "id": "FDF_raKuHgj6"
      },
      "source": [
        "# FEATURE MAPPING"
      ]
    },
    {
      "cell_type": "code",
      "metadata": {
        "id": "SPL3UsU5Hgj9"
      },
      "source": [
        "p_map = {'icmp':0,'tcp':1,'udp':2}\n",
        "df['protocol_type'] = df['protocol_type'].map(p_map)"
      ],
      "execution_count": 10,
      "outputs": []
    },
    {
      "cell_type": "code",
      "metadata": {
        "id": "oS0EFvzHHgkD"
      },
      "source": [
        "#flag feature mapping\n",
        "fmap = {'SF':0,'S0':1,'REJ':2,'RSTR':3,'RSTO':4,'SH':5 ,'S1':6 ,'S2':7,'RSTOS0':8,'S3':9 ,'OTH':10}\n",
        "df['flag'] = df['flag'].map(fmap)"
      ],
      "execution_count": 11,
      "outputs": []
    },
    {
      "cell_type": "code",
      "metadata": {
        "id": "ifC8OZ4PHgkG"
      },
      "source": [
        "df.drop('service',axis = 1,inplace= True)"
      ],
      "execution_count": 12,
      "outputs": []
    },
    {
      "cell_type": "code",
      "metadata": {
        "id": "1JNBLyRIHgkQ"
      },
      "source": [
        "from sklearn.model_selection import train_test_split\n",
        "from sklearn.preprocessing import MinMaxScaler\n",
        "from sklearn.metrics import accuracy_score"
      ],
      "execution_count": 13,
      "outputs": []
    },
    {
      "cell_type": "code",
      "metadata": {
        "colab": {
          "base_uri": "https://localhost:8080/"
        },
        "id": "TdXMN0GdHgkR",
        "outputId": "032eed77-c74f-4e10-9484-314f82d4ff24"
      },
      "source": [
        "df = df.drop(['target',], axis=1)\n",
        "print(df.shape)\n",
        "\n",
        "Y = df[['Attack Type']]\n",
        "X = df.drop(['Attack Type',], axis=1)\n",
        "\n",
        "sc = MinMaxScaler()\n",
        "X = sc.fit_transform(X)\n",
        "\n",
        "X_train, X_test, Y_train, Y_test = train_test_split(X, Y, test_size=0.25, random_state=10)\n",
        "print(X_train.shape, X_test.shape)\n",
        "print(Y_train.shape,  Y_test.shape)\n",
        "print(Y_train.count())"
      ],
      "execution_count": 14,
      "outputs": [
        {
          "output_type": "stream",
          "text": [
            "(494021, 31)\n",
            "(370515, 30) (123506, 30)\n",
            "(370515, 1) (123506, 1)\n",
            "Attack Type    370515\n",
            "dtype: int64\n"
          ],
          "name": "stdout"
        }
      ]
    },
    {
      "cell_type": "markdown",
      "metadata": {
        "id": "MX73Q9XMHgkU"
      },
      "source": [
        "#NAIVE BAYES"
      ]
    },
    {
      "cell_type": "code",
      "metadata": {
        "id": "dE0zcDHlHgkm"
      },
      "source": [
        "from sklearn.naive_bayes import MultinomialNB"
      ],
      "execution_count": 15,
      "outputs": []
    },
    {
      "cell_type": "code",
      "metadata": {
        "id": "oXY1HmF5Hgko"
      },
      "source": [
        "model1 = MultinomialNB()"
      ],
      "execution_count": 16,
      "outputs": []
    },
    {
      "cell_type": "code",
      "metadata": {
        "id": "k7LWP-y9Hgkp"
      },
      "source": [
        "start_time = time.time()\n",
        "model1.fit(X_train, Y_train.values.ravel())\n",
        "end_time = time.time()\n",
        "NB_training_time=end_time-start_time\n",
        "\n",
        "start_time = time.time()\n",
        "Y_test_pred1 = model1.predict(X_test)\n",
        "end_time = time.time()\n",
        "NB_testing_time=end_time-start_time\n"
      ],
      "execution_count": 17,
      "outputs": []
    },
    {
      "cell_type": "code",
      "metadata": {
        "id": "BdoxTYPvHgkv"
      },
      "source": [
        "NB_Train_score = model1.score(X_train, Y_train)\n",
        "NB_Test_score = model1.score(X_test,Y_test)"
      ],
      "execution_count": 18,
      "outputs": []
    },
    {
      "cell_type": "markdown",
      "metadata": {
        "id": "wu8BZk88Hgkx"
      },
      "source": [
        "#DECISION TREE"
      ]
    },
    {
      "cell_type": "code",
      "metadata": {
        "id": "RpkcDUAwHglO"
      },
      "source": [
        "#Decision Tree \n",
        "from sklearn.tree import DecisionTreeClassifier"
      ],
      "execution_count": 19,
      "outputs": []
    },
    {
      "cell_type": "code",
      "metadata": {
        "id": "OiN8rZUcHglP"
      },
      "source": [
        "model2 = DecisionTreeClassifier(criterion=\"entropy\", max_depth = 5)"
      ],
      "execution_count": 20,
      "outputs": []
    },
    {
      "cell_type": "code",
      "metadata": {
        "id": "IusrBM2lHglQ",
        "colab": {
          "base_uri": "https://localhost:8080/"
        },
        "outputId": "0d546d67-660c-4b3d-8b23-47e0939b4de3"
      },
      "source": [
        "start_time = time.time()\n",
        "model2.fit(X_train, Y_train.values.ravel())\n",
        "end_time = time.time()\n",
        "DT_training_time= end_time-start_time\n",
        "#print(\"Training time: \",end_time-start_time)\n",
        "\n",
        "start_time = time.time()\n",
        "Y_test_pred2 = model2.predict(X_test)\n",
        "end_time = time.time()\n",
        "DT_testing_time= end_time-start_time\n",
        "print(\"Testing time: \",end_time-start_time)"
      ],
      "execution_count": 21,
      "outputs": [
        {
          "output_type": "stream",
          "text": [
            "Testing time:  0.013508796691894531\n"
          ],
          "name": "stdout"
        }
      ]
    },
    {
      "cell_type": "code",
      "metadata": {
        "id": "hiuH1xrKHglX"
      },
      "source": [
        "DT_train_score = model2.score(X_train, Y_train)\n",
        "DT_test_score = model2.score(X_test,Y_test)"
      ],
      "execution_count": 22,
      "outputs": []
    },
    {
      "cell_type": "markdown",
      "metadata": {
        "id": "W_pEmrYyHglZ"
      },
      "source": [
        "#RANDOM FOREST"
      ]
    },
    {
      "cell_type": "code",
      "metadata": {
        "id": "hID5znLUHgla"
      },
      "source": [
        "from sklearn.ensemble import RandomForestClassifier"
      ],
      "execution_count": 23,
      "outputs": []
    },
    {
      "cell_type": "code",
      "metadata": {
        "id": "Lge7-GN4Hglb"
      },
      "source": [
        "model3 = RandomForestClassifier(n_estimators=50)"
      ],
      "execution_count": 24,
      "outputs": []
    },
    {
      "cell_type": "code",
      "metadata": {
        "id": "gL9Fo2F7Hglc",
        "colab": {
          "base_uri": "https://localhost:8080/"
        },
        "outputId": "a1c6cb9d-c736-4efb-9541-17e80121038d"
      },
      "source": [
        "start_time = time.time()\n",
        "model3.fit(X_train, Y_train.values.ravel())\n",
        "end_time = time.time()\n",
        "RF_training_time= end_time-start_time\n",
        "print(\"Training time: \",end_time-start_time)\n",
        "\n",
        "start_time = time.time()\n",
        "Y_test_pred3 = model3.predict(X_test)\n",
        "end_time = time.time()\n",
        "RF_testing_time= end_time-start_time\n",
        "print(\"Testing time: \",RF_testing_time)"
      ],
      "execution_count": 25,
      "outputs": [
        {
          "output_type": "stream",
          "text": [
            "Training time:  11.119136810302734\n",
            "Testing time:  0.4761018753051758\n"
          ],
          "name": "stdout"
        }
      ]
    },
    {
      "cell_type": "code",
      "metadata": {
        "id": "IjNPMbKJHglh"
      },
      "source": [
        "RF_Train_score= model3.score(X_train, Y_train)\n",
        "RF_Test_score=model3.score(X_test,Y_test)"
      ],
      "execution_count": 26,
      "outputs": []
    },
    {
      "cell_type": "markdown",
      "metadata": {
        "id": "AEWPImUsHglk"
      },
      "source": [
        "#SUPPORT VECTOR MACHINE"
      ]
    },
    {
      "cell_type": "code",
      "metadata": {
        "id": "XnPQHP51Hgll"
      },
      "source": [
        "from sklearn.svm import SVC"
      ],
      "execution_count": 27,
      "outputs": []
    },
    {
      "cell_type": "code",
      "metadata": {
        "id": "5QJe2DWbHgln"
      },
      "source": [
        "model4 = SVC(gamma = 'auto', C=1, kernel='linear')"
      ],
      "execution_count": 28,
      "outputs": []
    },
    {
      "cell_type": "code",
      "metadata": {
        "id": "gHc3YgfkHglp"
      },
      "source": [
        "start_time = time.time()\n",
        "model4.fit(X_train, Y_train.values.ravel())\n",
        "end_time = time.time()\n",
        "SVM_training_time= end_time-start_time\n",
        "\n",
        "start_time = time.time()\n",
        "Y_test_pred4 = model4.predict(X_test)\n",
        "end_time = time.time()\n",
        "SVM_testing_time= end_time-start_time\n"
      ],
      "execution_count": 29,
      "outputs": []
    },
    {
      "cell_type": "code",
      "metadata": {
        "id": "eTq1jfNoHglv"
      },
      "source": [
        "SVM_Train_score= model4.score(X_train, Y_train)\n",
        "SVM_Test_score= model4.score(X_test,Y_test)"
      ],
      "execution_count": 30,
      "outputs": []
    },
    {
      "cell_type": "markdown",
      "metadata": {
        "id": "G5WXlCrGoTqB"
      },
      "source": [
        "\n",
        "\n",
        "```\n",
        "# This is formatted as code\n",
        "```\n",
        "\n",
        "#Logistic Regression"
      ]
    },
    {
      "cell_type": "code",
      "metadata": {
        "id": "jbsFRYf8n4XO"
      },
      "source": [
        "from sklearn.linear_model import LogisticRegression"
      ],
      "execution_count": 31,
      "outputs": []
    },
    {
      "cell_type": "code",
      "metadata": {
        "id": "Ln-a2sj7n4XO"
      },
      "source": [
        "model5 = LogisticRegression(max_iter=120000)"
      ],
      "execution_count": 32,
      "outputs": []
    },
    {
      "cell_type": "code",
      "metadata": {
        "id": "TvDHt8eRn4XP",
        "colab": {
          "base_uri": "https://localhost:8080/"
        },
        "outputId": "4618fe01-a03d-44b6-c237-28abad01de89"
      },
      "source": [
        "start_time = time.time()\n",
        "model5.fit(X_train, Y_train.values.ravel())\n",
        "end_time = time.time()\n",
        "LR_training_time= end_time-start_time\n",
        "print(\"Training time: \",LR_training_time)\n",
        "\n",
        "start_time = time.time()\n",
        "Y_test_pred5 = model5.predict(X_test)\n",
        "end_time = time.time()\n",
        "LR_testing_time= end_time-start_time\n",
        "print(\"Testing time: \",LR_testing_time)"
      ],
      "execution_count": 33,
      "outputs": [
        {
          "output_type": "stream",
          "text": [
            "Training time:  61.2460560798645\n",
            "Testing time:  0.01837325096130371\n"
          ],
          "name": "stdout"
        }
      ]
    },
    {
      "cell_type": "code",
      "metadata": {
        "id": "5o_oICjTn4XU",
        "colab": {
          "base_uri": "https://localhost:8080/"
        },
        "outputId": "3d437ef9-0069-40ee-e43c-024c6c2dfd3d"
      },
      "source": [
        "LR_Train_score= model5.score(X_train, Y_train)\n",
        "LR_Test_score=model5.score(X_test,Y_test)\n",
        "print(LR_Test_score)"
      ],
      "execution_count": 34,
      "outputs": [
        {
          "output_type": "stream",
          "text": [
            "0.9934982915809758\n"
          ],
          "name": "stdout"
        }
      ]
    },
    {
      "cell_type": "markdown",
      "metadata": {
        "id": "sWkWvQZWHgng"
      },
      "source": [
        "## Artificial Neural Network"
      ]
    },
    {
      "cell_type": "code",
      "metadata": {
        "id": "U_mt8T2rHgnh"
      },
      "source": [
        "from keras.models import Sequential\n",
        "from keras.layers import Dense\n",
        "from keras.wrappers.scikit_learn import KerasClassifier"
      ],
      "execution_count": 35,
      "outputs": []
    },
    {
      "cell_type": "code",
      "metadata": {
        "id": "OGOHKINVHgni"
      },
      "source": [
        "def fun():\n",
        "    model = Sequential()\n",
        "    model.add(Dense(30,input_dim =30,activation = 'relu',kernel_initializer='random_uniform'))\n",
        "    model.add(Dense(15,activation='relu',kernel_initializer='random_uniform'))\n",
        "    model.add(Dense(5,activation='softmax'))    \n",
        "    model.compile(loss ='categorical_crossentropy',optimizer = 'adam',metrics = ['accuracy'])\n",
        "    \n",
        "    return model"
      ],
      "execution_count": 36,
      "outputs": []
    },
    {
      "cell_type": "code",
      "metadata": {
        "id": "QyM1hLUrHgnj"
      },
      "source": [
        "model7 = KerasClassifier(build_fn=fun,epochs=20,batch_size=32)"
      ],
      "execution_count": 37,
      "outputs": []
    },
    {
      "cell_type": "code",
      "metadata": {
        "colab": {
          "base_uri": "https://localhost:8080/"
        },
        "id": "OflbUEzVHgnk",
        "outputId": "28330c43-0664-4560-a491-bc5b7b46c0ce"
      },
      "source": [
        "start = time.time()\n",
        "model7.fit(X_train, Y_train.values.ravel())\n",
        "end = time.time()"
      ],
      "execution_count": 38,
      "outputs": [
        {
          "output_type": "stream",
          "text": [
            "Epoch 1/20\n",
            "11579/11579 [==============================] - 26s 2ms/step - loss: 0.1076 - accuracy: 0.9845\n",
            "Epoch 2/20\n",
            "11579/11579 [==============================] - 23s 2ms/step - loss: 0.0075 - accuracy: 0.9981\n",
            "Epoch 3/20\n",
            "11579/11579 [==============================] - 23s 2ms/step - loss: 0.0055 - accuracy: 0.9986\n",
            "Epoch 4/20\n",
            "11579/11579 [==============================] - 23s 2ms/step - loss: 0.0052 - accuracy: 0.9986\n",
            "Epoch 5/20\n",
            "11579/11579 [==============================] - 23s 2ms/step - loss: 0.0047 - accuracy: 0.9987\n",
            "Epoch 6/20\n",
            "11579/11579 [==============================] - 23s 2ms/step - loss: 0.0041 - accuracy: 0.9988\n",
            "Epoch 7/20\n",
            "11579/11579 [==============================] - 23s 2ms/step - loss: 0.0041 - accuracy: 0.9989\n",
            "Epoch 8/20\n",
            "11579/11579 [==============================] - 23s 2ms/step - loss: 0.0038 - accuracy: 0.9990\n",
            "Epoch 9/20\n",
            "11579/11579 [==============================] - 23s 2ms/step - loss: 0.0036 - accuracy: 0.9991\n",
            "Epoch 10/20\n",
            "11579/11579 [==============================] - 23s 2ms/step - loss: 0.0036 - accuracy: 0.9991\n",
            "Epoch 11/20\n",
            "11579/11579 [==============================] - 23s 2ms/step - loss: 0.0036 - accuracy: 0.9991\n",
            "Epoch 12/20\n",
            "11579/11579 [==============================] - 23s 2ms/step - loss: 0.0031 - accuracy: 0.9992\n",
            "Epoch 13/20\n",
            "11579/11579 [==============================] - 23s 2ms/step - loss: 0.0029 - accuracy: 0.9992\n",
            "Epoch 14/20\n",
            "11579/11579 [==============================] - 23s 2ms/step - loss: 0.0030 - accuracy: 0.9992\n",
            "Epoch 15/20\n",
            "11579/11579 [==============================] - 23s 2ms/step - loss: 0.0029 - accuracy: 0.9993\n",
            "Epoch 16/20\n",
            "11579/11579 [==============================] - 23s 2ms/step - loss: 0.0034 - accuracy: 0.9992\n",
            "Epoch 17/20\n",
            "11579/11579 [==============================] - 23s 2ms/step - loss: 0.0029 - accuracy: 0.9993\n",
            "Epoch 18/20\n",
            "11579/11579 [==============================] - 23s 2ms/step - loss: 0.0029 - accuracy: 0.9993\n",
            "Epoch 19/20\n",
            "11579/11579 [==============================] - 23s 2ms/step - loss: 0.0030 - accuracy: 0.9992\n",
            "Epoch 20/20\n",
            "11579/11579 [==============================] - 23s 2ms/step - loss: 0.0027 - accuracy: 0.9993\n"
          ],
          "name": "stdout"
        }
      ]
    },
    {
      "cell_type": "code",
      "metadata": {
        "colab": {
          "base_uri": "https://localhost:8080/"
        },
        "id": "Uzm4SXfrHgnm",
        "outputId": "0aa11bcf-b297-4396-c0d1-19eb929ed2c6"
      },
      "source": [
        "ANN_training_time= end-start\n",
        "\n",
        "start_time = time.time()\n",
        "Y_test_pred7 = model7.predict(X_test)\n",
        "end_time = time.time()\n",
        "ANN_predict_time= end_time-start_time"
      ],
      "execution_count": 39,
      "outputs": [
        {
          "output_type": "stream",
          "text": [
            "/usr/local/lib/python3.7/dist-packages/tensorflow/python/keras/engine/sequential.py:450: UserWarning: `model.predict_classes()` is deprecated and will be removed after 2021-01-01. Please use instead:* `np.argmax(model.predict(x), axis=-1)`,   if your model does multi-class classification   (e.g. if it uses a `softmax` last-layer activation).* `(model.predict(x) > 0.5).astype(\"int32\")`,   if your model does binary classification   (e.g. if it uses a `sigmoid` last-layer activation).\n",
            "  warnings.warn('`model.predict_classes()` is deprecated and '\n"
          ],
          "name": "stderr"
        }
      ]
    },
    {
      "cell_type": "code",
      "metadata": {
        "colab": {
          "base_uri": "https://localhost:8080/"
        },
        "id": "Sku4J6VxWvLF",
        "outputId": "c987a204-163d-40b9-c163-ab1832cb4fd1"
      },
      "source": [
        "Y_train_pred7 = model7.predict(X_train)"
      ],
      "execution_count": 40,
      "outputs": [
        {
          "output_type": "stream",
          "text": [
            "/usr/local/lib/python3.7/dist-packages/tensorflow/python/keras/engine/sequential.py:450: UserWarning: `model.predict_classes()` is deprecated and will be removed after 2021-01-01. Please use instead:* `np.argmax(model.predict(x), axis=-1)`,   if your model does multi-class classification   (e.g. if it uses a `softmax` last-layer activation).* `(model.predict(x) > 0.5).astype(\"int32\")`,   if your model does binary classification   (e.g. if it uses a `sigmoid` last-layer activation).\n",
            "  warnings.warn('`model.predict_classes()` is deprecated and '\n"
          ],
          "name": "stderr"
        }
      ]
    },
    {
      "cell_type": "code",
      "metadata": {
        "id": "epMOze2THgnp"
      },
      "source": [
        "ANN_training_score=accuracy_score(Y_train,Y_train_pred7)\n",
        "ANN_testing_score= accuracy_score(Y_test,Y_test_pred7)"
      ],
      "execution_count": 41,
      "outputs": []
    },
    {
      "cell_type": "markdown",
      "metadata": {
        "id": "BgnYjlvRHgnr"
      },
      "source": [
        "# TRAINING ACCURACY"
      ]
    },
    {
      "cell_type": "code",
      "metadata": {
        "colab": {
          "base_uri": "https://localhost:8080/",
          "height": 295
        },
        "id": "fxozjwCJHgns",
        "outputId": "267bbeef-7136-4709-cbc4-853184e554ba"
      },
      "source": [
        "labels = ['NB','DT','RF','SVM','LR','ANN']\n",
        "values = [NB_Train_score*100,DT_train_score*100,RF_Train_score*100,SVM_Train_score*100,LR_Train_score*100,ANN_training_score*100]\n",
        "\n",
        "\n",
        "plt.plot(labels, values, color='blue', marker='o')\n",
        "plt.title('Training Accuracy')\n",
        "plt.xlabel('ML Techniques')\n",
        "plt.ylabel('Accuracy (%)')\n",
        "plt.grid(True)\n",
        "plt.show()\n",
        "\n"
      ],
      "execution_count": 42,
      "outputs": [
        {
          "output_type": "display_data",
          "data": {
            "image/png": "[encoded data removed]",
            "text/plain": [
              "<Figure size 432x288 with 1 Axes>"
            ]
          },
          "metadata": {
            "tags": [],
            "needs_background": "light"
          }
        }
      ]
    },
    {
      "cell_type": "markdown",
      "metadata": {
        "id": "VoME-BJDHgnu"
      },
      "source": [
        "#TESTING ACCURACY"
      ]
    },
    {
      "cell_type": "code",
      "metadata": {
        "colab": {
          "base_uri": "https://localhost:8080/",
          "height": 295
        },
        "id": "WqbElSVzHgnv",
        "outputId": "206e6f79-45ec-4ab8-8ac7-42999c10cb45"
      },
      "source": [
        "labels = ['NB','DT','RF','SVM','LR','ANN']\n",
        "values = [NB_Test_score*100,DT_test_score*100,RF_Test_score*100,SVM_Test_score*100,LR_Test_score*100,ANN_testing_score*100]\n",
        "\n",
        "plt.plot(labels, values, color='red', marker='o')\n",
        "plt.title('Testing Accuracy')\n",
        "plt.xlabel('ML Techniques')\n",
        "plt.ylabel('Accuracy (%)')\n",
        "plt.grid(True)\n",
        "plt.show()\n"
      ],
      "execution_count": 43,
      "outputs": [
        {
          "output_type": "display_data",
          "data": {
            "image/png": "[encoded data removed]",
            "text/plain": [
              "<Figure size 432x288 with 1 Axes>"
            ]
          },
          "metadata": {
            "tags": [],
            "needs_background": "light"
          }
        }
      ]
    },
    {
      "cell_type": "markdown",
      "metadata": {
        "id": "0GiRJqEDHgnx"
      },
      "source": [
        "#TRAINING TIME"
      ]
    },
    {
      "cell_type": "code",
      "metadata": {
        "colab": {
          "base_uri": "https://localhost:8080/",
          "height": 300
        },
        "id": "feWH4vuJHgnx",
        "outputId": "21d45f87-40f9-4fab-a4e5-8d6b2ae87071"
      },
      "source": [
        "names = ['NB','DT','RF','SVM','LR','ANN']\n",
        "values = [NB_training_time,DT_training_time,RF_training_time,SVM_training_time,LR_training_time,ANN_training_time]\n",
        "New_Colors = ['green','blue','purple','brown','teal','Orange']\n",
        "plt.bar(names, values, color=New_Colors)\n",
        "plt.title('Training time for considered six ML techniques', fontsize=14)\n",
        "plt.xlabel('ML Techniques', fontsize=14)\n",
        "plt.ylabel('Time/second', fontsize=14)\n",
        "plt.show()\n",
        "\n"
      ],
      "execution_count": 44,
      "outputs": [
        {
          "output_type": "display_data",
          "data": {
            "image/png": "[encoded data removed]",
            "text/plain": [
              "<Figure size 432x288 with 1 Axes>"
            ]
          },
          "metadata": {
            "tags": [],
            "needs_background": "light"
          }
        }
      ]
    },
    {
      "cell_type": "markdown",
      "metadata": {
        "id": "-SxQNeMZHgn0"
      },
      "source": [
        "#TESTING TIME"
      ]
    },
    {
      "cell_type": "code",
      "metadata": {
        "colab": {
          "base_uri": "https://localhost:8080/",
          "height": 300
        },
        "id": "q1vfLF19Hgn0",
        "outputId": "0b34a006-06a9-4aa3-e309-f327817f9b99"
      },
      "source": [
        "names = ['NB','DT','RF','SVM','LR','ANN']\n",
        "values = [NB_testing_time,DT_testing_time,RF_testing_time,SVM_testing_time,LR_testing_time,ANN_predict_time]\n",
        "New_Colors = ['green','blue','purple','brown','teal','Orange']\n",
        "plt.bar(names, values, color=New_Colors)\n",
        "plt.title('Testing time for considered six ML techniques', fontsize=14)\n",
        "plt.xlabel('ML Techniques', fontsize=14)\n",
        "plt.ylabel('Time/second', fontsize=14)\n",
        "plt.show()"
      ],
      "execution_count": 45,
      "outputs": [
        {
          "output_type": "display_data",
          "data": {
            "image/png": "[encoded data removed]",
            "text/plain": [
              "<Figure size 432x288 with 1 Axes>"
            ]
          },
          "metadata": {
            "tags": [],
            "needs_background": "light"
          }
        }
      ]
    }
  ]
}